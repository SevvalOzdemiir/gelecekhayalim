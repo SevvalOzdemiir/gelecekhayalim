{
 "cells": [
  {
   "cell_type": "markdown",
   "metadata": {},
   "source": []
  },
  {
   "cell_type": "code",
   "execution_count": 5,
   "metadata": {},
   "outputs": [
    {
     "name": "stdout",
     "output_type": "stream",
     "text": [
      "24000\n",
      "Yeni maaşınız: 21600.0\n"
     ]
    }
   ],
   "source": [
    "maas = int(input(\"Maaşınızı giriniz: \"))\n",
    "print(maas)\n",
    "\n",
    "if maas <= 10000:\n",
    "    maas = maas * 0.95\n",
    "    print(\"Yeni maaşınız:\", maas)\n",
    "\n",
    "elif 10000 < maas <= 25000:\n",
    "    maas = maas * 0.90\n",
    "    print(\"Yeni maaşınız:\", maas)\n",
    "\n",
    "elif 25000 < maas <= 55000:\n",
    "    maas = maas * 0.75\n",
    "    print(\"Yeni maaşınız:\", maas)\n",
    "\n",
    "else:\n",
    "    maas = maas * 0.70\n",
    "    print(\"Yeni maaşınız:\", maas)\n",
    "\n",
    "\n"
   ]
  },
  {
   "cell_type": "code",
   "execution_count": 6,
   "metadata": {},
   "outputs": [
    {
     "name": "stdout",
     "output_type": "stream",
     "text": [
      "Hesabınız oluşturuldu.\n"
     ]
    }
   ],
   "source": [
    "kullanici_adi = input(\"Kullanıcı adınızı oluşturun: \")\n",
    "sifre = input(\"Şifrenizi oluşturun: \")\n",
    "\n",
    "if len(sifre) == 6:\n",
    "    print(\"Hesabınız oluşturuldu.\")\n",
    "else:\n",
    "    print(\"Şifreniz 6 haneli olmalıdır!\")"
   ]
  },
  {
   "cell_type": "code",
   "execution_count": null,
   "metadata": {},
   "outputs": [],
   "source": [
    "kullanici_adi = input(\"Kullanıcı adınızı oluşturun: \")\n",
    "\n",
    "while True:\n",
    "    sifre = input(\"Şifrenizi oluşturun (Şifreniz 5 ile 10 karakter arasında olmalıdır.): \")\n",
    "    \n",
    "    if 5 <= len(sifre) <= 10:\n",
    "        print(\"Hesabınız oluşturuldu.\")\n",
    "        break\n",
    "    else:\n",
    "        print(\"Girdiğiniz şifre 5 haneden az 10 haneden fazla olmasın!\")"
   ]
  },
  {
   "cell_type": "code",
   "execution_count": 9,
   "metadata": {},
   "outputs": [
    {
     "name": "stdout",
     "output_type": "stream",
     "text": [
      "Yanlış şifre girildi. Kalan deneme hakkınız: 2\n",
      "Yanlış şifre girildi. Kalan deneme hakkınız: 1\n",
      "Htalı şifre sınırını aştınız.\n"
     ]
    }
   ],
   "source": [
    "kullanici_adi = input(\"Kullanıcı adı giriniz: \")\n",
    "password= \"616161\"\n",
    "\n",
    "hak = 3\n",
    "\n",
    "while hak > 0:\n",
    "    girilen_sifre = input(\"Şifrenizi giriniz: \")\n",
    "    \n",
    "    if girilen_sifre == password:\n",
    "        print(\"Giriş yapıldı.\")\n",
    "        break\n",
    "    else:\n",
    "        hak -= 1\n",
    "        if hak > 0:\n",
    "            print(\"Yanlış şifre girildi. Kalan deneme hakkınız:\",hak)\n",
    "        else:\n",
    "            print(\"Htalı şifre sınırını aştınız.\")"
   ]
  }
 ],
 "metadata": {
  "kernelspec": {
   "display_name": "Python 3",
   "language": "python",
   "name": "python3"
  },
  "language_info": {
   "codemirror_mode": {
    "name": "ipython",
    "version": 3
   },
   "file_extension": ".py",
   "mimetype": "text/x-python",
   "name": "python",
   "nbconvert_exporter": "python",
   "pygments_lexer": "ipython3",
   "version": "3.10.9"
  },
  "orig_nbformat": 4
 },
 "nbformat": 4,
 "nbformat_minor": 2
}
