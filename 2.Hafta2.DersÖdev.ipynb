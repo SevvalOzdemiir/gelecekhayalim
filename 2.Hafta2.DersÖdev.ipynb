{
 "cells": [
  {
   "cell_type": "code",
   "execution_count": 2,
   "metadata": {},
   "outputs": [
    {
     "name": "stdout",
     "output_type": "stream",
     "text": [
      "3\n",
      "Hi-Kod\n",
      "4.7\n",
      "[9, '3', 8.4]\n",
      "[8.4, 'Hi-Kod', 'False']\n"
     ]
    }
   ],
   "source": [
    "list = [\"Python\",True,9,\"3\",8.4,\"Hi-Kod\",\"False\",4.7]\n",
    "\n",
    "print(list[3])\n",
    "print(list[5])\n",
    "print(list[7])\n",
    "print(list[2:5])\n",
    "print(list[4:7])"
   ]
  },
  {
   "cell_type": "code",
   "execution_count": 4,
   "metadata": {},
   "outputs": [
    {
     "name": "stdout",
     "output_type": "stream",
     "text": [
      "String değerler: ['Python', '3', 'Hi-Kod', 'False']\n"
     ]
    }
   ],
   "source": [
    "list = [\"Python\", True, 9, \"3\", 8.4, \"Hi-Kod\", \"False\", 4.7]\n",
    "\n",
    "newList= []\n",
    "\n",
    "for eleman in list:\n",
    "    if isinstance(eleman, str):  \n",
    "        newList.append(eleman)\n",
    "        \n",
    "print(\"String değerler:\", newList)"
   ]
  },
  {
   "cell_type": "code",
   "execution_count": 6,
   "metadata": {},
   "outputs": [
    {
     "name": "stdout",
     "output_type": "stream",
     "text": [
      "0. indexte bulunan meyve: Karpuz\n",
      "1. indexte bulunan meyve: Çilek\n",
      "2. indexte bulunan meyve: Kiraz\n"
     ]
    }
   ],
   "source": [
    "meyveler = [\"Karpuz\", \"Çilek\", \"Kiraz\"]\n",
    "\n",
    "for index, meyve in enumerate(meyveler):\n",
    "    print(\"{}. indexte bulunan meyve: {}\".format(index, meyve))"
   ]
  }
 ],
 "metadata": {
  "kernelspec": {
   "display_name": "Python 3",
   "language": "python",
   "name": "python3"
  },
  "language_info": {
   "codemirror_mode": {
    "name": "ipython",
    "version": 3
   },
   "file_extension": ".py",
   "mimetype": "text/x-python",
   "name": "python",
   "nbconvert_exporter": "python",
   "pygments_lexer": "ipython3",
   "version": "3.10.9"
  },
  "orig_nbformat": 4
 },
 "nbformat": 4,
 "nbformat_minor": 2
}
