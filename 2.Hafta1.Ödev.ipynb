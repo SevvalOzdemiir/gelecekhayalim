{
 "cells": [
  {
   "cell_type": "code",
   "execution_count": 4,
   "metadata": {},
   "outputs": [
    {
     "name": "stdout",
     "output_type": "stream",
     "text": [
      "Dairenin alanı: 16.610599999999998\n"
     ]
    }
   ],
   "source": [
    "def alanHesaplama(pi,yaricap):\n",
    "    alan = pi * (yaricap ** 2)\n",
    "    return alan\n",
    "\n",
    "pi_degeri = float(input(\"Pi değerini giriniz: \"))\n",
    "yaricap = float(input(\"Dairenin yarıçapını giriniz: \"))\n",
    "\n",
    "alan = alanHesaplama(pi_degeri, yaricap)\n",
    "\n",
    "print(\"Dairenin alanı:\",alan)"
   ]
  },
  {
   "cell_type": "code",
   "execution_count": 5,
   "metadata": {},
   "outputs": [
    {
     "name": "stdout",
     "output_type": "stream",
     "text": [
      "Girilen sayının faktöriyeli: 720\n"
     ]
    }
   ],
   "source": [
    "def faktoriyel(sayi):\n",
    "    sonuc = 1\n",
    "    while sayi > 1:\n",
    "        sonuc *= sayi\n",
    "        sayi -= 1\n",
    "    return sonuc\n",
    "\n",
    "girilen_sayi = int(input(\"Faktöriyelini hesaplamak istediğiniz sayıyı giriniz: \"))\n",
    "print(\"Girilen sayının faktöriyeli: {}\".format(faktoriyel(girilen_sayi)))"
   ]
  },
  {
   "cell_type": "code",
   "execution_count": 7,
   "metadata": {},
   "outputs": [
    {
     "name": "stdout",
     "output_type": "stream",
     "text": [
      "Yaşınız: 21\n"
     ]
    }
   ],
   "source": [
    "from datetime import datetime\n",
    "\n",
    "def yasHesaplama(dogumYili):\n",
    "    year= datetime.now().year\n",
    "    age = year- dogumYili\n",
    "    return age\n",
    "\n",
    "dogumYili= int(input(\"Doğum yılınızı giriniz: \"))\n",
    "age = yasHesaplama(dogumYili)\n",
    "print(\"Yaşınız:\",age)"
   ]
  },
  {
   "cell_type": "code",
   "execution_count": 11,
   "metadata": {},
   "outputs": [
    {
     "name": "stdout",
     "output_type": "stream",
     "text": [
      "Ertan Emekliliğinize 9 yıl kaldı\n"
     ]
    }
   ],
   "source": [
    "from datetime import datetime\n",
    "\n",
    "def yasHesaplama(dogumYili):\n",
    "    year= datetime.now().year\n",
    "    age = year- dogumYili\n",
    "    return age\n",
    "\n",
    "def emeklilikDurumu(isim,dogumYili):\n",
    "    age = yasHesaplama(dogumYili)\n",
    "    if age >= 65:\n",
    "        print(\"Emekli oldunuz\")\n",
    "    else:\n",
    "        kalanYil = 65 - age\n",
    "        print(isim,f\"Emekliliğinize {kalanYil} yıl kaldı\")\n",
    "    \n",
    "isim = input(\"Lütfen isminizi giriniz: \")\n",
    "dogumYili = int(input(\"Doğum yılınızı giriniz: \"))\n",
    "\n",
    "emeklilikDurumu(isim, dogumYili)"
   ]
  },
  {
   "cell_type": "code",
   "execution_count": null,
   "metadata": {},
   "outputs": [],
   "source": []
  }
 ],
 "metadata": {
  "kernelspec": {
   "display_name": "Python 3",
   "language": "python",
   "name": "python3"
  },
  "language_info": {
   "codemirror_mode": {
    "name": "ipython",
    "version": 3
   },
   "file_extension": ".py",
   "mimetype": "text/x-python",
   "name": "python",
   "nbconvert_exporter": "python",
   "pygments_lexer": "ipython3",
   "version": "3.10.9"
  },
  "orig_nbformat": 4
 },
 "nbformat": 4,
 "nbformat_minor": 2
}
