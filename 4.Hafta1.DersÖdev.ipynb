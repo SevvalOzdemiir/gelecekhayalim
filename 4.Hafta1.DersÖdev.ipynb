{
 "cells": [
  {
   "cell_type": "code",
   "execution_count": 2,
   "metadata": {},
   "outputs": [
    {
     "name": "stdout",
     "output_type": "stream",
     "text": [
      "2. indekste bulunan kategori: Ayakkabı\n",
      "2. indekste bulunan ürün: Sandalet\n",
      "4. indeksten 9. indekse kadar olan veriler:\n",
      "    Kategori           Ürün  Fiyat\n",
      "4  Ayakkabı  Spor Ayakkabı    700\n",
      "5     Giyim       Pantolon    400\n",
      "6  Aksesuar          Kolye    150\n",
      "7  Aksesuar          Yüzük     80\n",
      "8  Ayakkabı          Çizme    850\n",
      "9     Giyim          Ceket    900\n",
      "1. indeksten 6. indekse kadar olan ürünler:\n",
      " 1          T-shirt\n",
      "2         Sandalet\n",
      "3             Küpe\n",
      "4    Spor Ayakkabı\n",
      "5         Pantolon\n",
      "6            Kolye\n",
      "Name: Ürün, dtype: object\n"
     ]
    }
   ],
   "source": [
    "import pandas as pd\n",
    "\n",
    "sozluk = {\n",
    "    \"Kategori\": [\"Giyim\", \"Giyim\", \"Ayakkabı\", \"Aksesuar\", \"Ayakkabı\", \"Giyim\", \"Aksesuar\", \"Aksesuar\", \"Ayakkabı\", \"Giyim\"],\n",
    "    \"Ürün\": [\"Kazak\", \"T-shirt\", \"Sandalet\", \"Küpe\", \"Spor Ayakkabı\", \"Pantolon\", \"Kolye\", \"Yüzük\", \"Çizme\", \"Ceket\"],\n",
    "    \"Fiyat\": [300, 180, 450, 50, 700, 400, 150, 80, 850, 900]\n",
    "}\n",
    "\n",
    "df = pd.DataFrame(sozluk)\n",
    "\n",
    "print(\"2. indekste bulunan kategori:\", df.loc[2, \"Kategori\"])\n",
    "print(\"2. indekste bulunan ürün:\", df.loc[2, \"Ürün\"])\n",
    "print(\"4. indeksten 9. indekse kadar olan veriler:\\n\", df.loc[4:9])\n",
    "print(\"1. indeksten 6. indekse kadar olan ürünler:\\n\", df.loc[1:6, \"Ürün\"])\n"
   ]
  },
  {
   "cell_type": "code",
   "execution_count": 4,
   "metadata": {},
   "outputs": [
    {
     "name": "stdout",
     "output_type": "stream",
     "text": [
      "Giyim kategorisinde bulunan ürünler:\n",
      "   Kategori      Ürün  Fiyat\n",
      "0    Giyim     Kazak    300\n",
      "1    Giyim   T-shirt    180\n",
      "5    Giyim  Pantolon    400\n",
      "9    Giyim     Ceket    900\n",
      "Ayakkabı kategorisinde bulunan ürünler:\n",
      "    Kategori           Ürün  Fiyat\n",
      "2  Ayakkabı       Sandalet    450\n",
      "4  Ayakkabı  Spor Ayakkabı    700\n",
      "8  Ayakkabı          Çizme    850\n",
      "Aksesuar kategorisinde bulunan ürünler:\n",
      "    Kategori   Ürün  Fiyat\n",
      "3  Aksesuar   Küpe     50\n",
      "6  Aksesuar  Kolye    150\n",
      "7  Aksesuar  Yüzük     80\n"
     ]
    }
   ],
   "source": [
    "giyim_urunleri = df[df[\"Kategori\"] == \"Giyim\"]\n",
    "print(\"Giyim kategorisinde bulunan ürünler:\\n\", giyim_urunleri)\n",
    "\n",
    "ayakkabi_urunleri = df[df[\"Kategori\"] == \"Ayakkabı\"]\n",
    "print(\"Ayakkabı kategorisinde bulunan ürünler:\\n\", ayakkabi_urunleri)\n",
    "\n",
    "aksesuar_urunleri = df[df[\"Kategori\"] == \"Aksesuar\"]\n",
    "print(\"Aksesuar kategorisinde bulunan ürünler:\\n\", aksesuar_urunleri)\n"
   ]
  },
  {
   "cell_type": "code",
   "execution_count": 5,
   "metadata": {},
   "outputs": [
    {
     "name": "stdout",
     "output_type": "stream",
     "text": [
      "Giyim kategorisinde fiyatı 300'den fazla olan ürünler:\n",
      "   Kategori      Ürün  Fiyat\n",
      "5    Giyim  Pantolon    400\n",
      "9    Giyim     Ceket    900\n",
      "Ayakkabı kategorisinde fiyatı 600'den az olan ürünler:\n",
      "    Kategori      Ürün  Fiyat\n",
      "2  Ayakkabı  Sandalet    450\n",
      "Aksesuar kategorisinde fiyatı 100'den fazla olan ürünler:\n",
      "    Kategori   Ürün  Fiyat\n",
      "6  Aksesuar  Kolye    150\n"
     ]
    }
   ],
   "source": [
    "giyim300 = df[(df[\"Kategori\"] == \"Giyim\") & (df[\"Fiyat\"] > 300)]\n",
    "print(\"Giyim kategorisinde fiyatı 300'den fazla olan ürünler:\\n\", giyim300)\n",
    "\n",
    "ayakkabi600 = df[(df[\"Kategori\"] == \"Ayakkabı\") & (df[\"Fiyat\"] < 600)]\n",
    "print(\"Ayakkabı kategorisinde fiyatı 600'den az olan ürünler:\\n\", ayakkabi600)\n",
    "\n",
    "aksesuar100 = df[(df[\"Kategori\"] == \"Aksesuar\") & (df[\"Fiyat\"] > 100)]\n",
    "print(\"Aksesuar kategorisinde fiyatı 100'den fazla olan ürünler:\\n\", aksesuar100)"
   ]
  }
 ],
 "metadata": {
  "kernelspec": {
   "display_name": "Python 3",
   "language": "python",
   "name": "python3"
  },
  "language_info": {
   "codemirror_mode": {
    "name": "ipython",
    "version": 3
   },
   "file_extension": ".py",
   "mimetype": "text/x-python",
   "name": "python",
   "nbconvert_exporter": "python",
   "pygments_lexer": "ipython3",
   "version": "3.13.0"
  },
  "orig_nbformat": 4
 },
 "nbformat": 4,
 "nbformat_minor": 2
}
