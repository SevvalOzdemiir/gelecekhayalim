{
 "cells": [
  {
   "cell_type": "code",
   "execution_count": 18,
   "metadata": {},
   "outputs": [
    {
     "name": "stdout",
     "output_type": "stream",
     "text": [
      "<class 'str'>\n",
      "<class 'int'>\n",
      "int deger= 21\n",
      "float deger= 21\n",
      "<class 'bool'> True\n",
      "<class 'str'> True\n"
     ]
    }
   ],
   "source": [
    "sayi=\"21\"\n",
    "print(type(sayi))\n",
    "\n",
    "#string değeri integer dönüştürme\n",
    "sayi=int(\"21\")\n",
    "print(type(sayi))\n",
    "print(\"int deger=\",sayi)\n",
    "\n",
    "#integer değeri float dönüştürme\n",
    "sayi_float = float(sayi)\n",
    "print(\"float deger=\",sayi)\n",
    "\n",
    "#boolean degeri string dönüştürme\n",
    "case = True\n",
    "print(type(case),case)\n",
    "case= str(case)\n",
    "print(type(case),case)"
   ]
  },
  {
   "cell_type": "code",
   "execution_count": 19,
   "metadata": {},
   "outputs": [
    {
     "name": "stdout",
     "output_type": "stream",
     "text": [
      "False\n",
      "True\n",
      "True\n",
      "False\n",
      "True\n",
      "False\n"
     ]
    }
   ],
   "source": [
    "sevval=21\n",
    "gamze=22\n",
    "\n",
    "\n",
    "print(sevval == gamze)  \n",
    "print(sevval != gamze)  \n",
    "print(sevval < gamze)  \n",
    "print(sevval > gamze)  \n",
    "print(sevval <= gamze)  \n",
    "print(sevval >= gamze)  \n",
    "\n",
    "\n"
   ]
  },
  {
   "cell_type": "code",
   "execution_count": 30,
   "metadata": {},
   "outputs": [
    {
     "name": "stdout",
     "output_type": "stream",
     "text": [
      "8\n",
      "4\n",
      "toplam= 12\n",
      "fark= 4\n",
      "çarpım= 32\n",
      "bölüm= 2.0\n"
     ]
    }
   ],
   "source": [
    "a= int(input(\"Birinci sayıyı girin: \"))\n",
    "print(a)\n",
    "\n",
    "b = int(input(\"İkinci sayıyı girin: \"))\n",
    "print(b)\n",
    "\n",
    "\n",
    "print(\"toplam=\",a + b)  \n",
    "print(\"fark=\",a - b)\n",
    "print(\"çarpım=\",a * b)\n",
    "print(\"bölüm=\",a / b) \n",
    "\n"
   ]
  },
  {
   "cell_type": "code",
   "execution_count": 32,
   "metadata": {},
   "outputs": [
    {
     "name": "stdout",
     "output_type": "stream",
     "text": [
      "Şevval\n",
      "21\n",
      "Ankara\n",
      "Bilgisayar Mühendisi\n"
     ]
    }
   ],
   "source": [
    "isim=input(\"Adınızı giriniz\")\n",
    "print(isim)\n",
    "\n",
    "yas=input(\"Yaşınızı giriniz\")\n",
    "print(yas)\n",
    "\n",
    "sehir=input(\"Yaşadığınız şehri giriniz\")\n",
    "print(sehir)\n",
    "\n",
    "meslek=input(\"Mesleğinizi giriniz\")\n",
    "print(meslek)"
   ]
  },
  {
   "cell_type": "code",
   "execution_count": 35,
   "metadata": {},
   "outputs": [
    {
     "name": "stdout",
     "output_type": "stream",
     "text": [
      "['Hi-Kod', 'Veri', 'Bilimi', 'Atölyesi']\n",
      "HI-KOD VERI BILIMI ATÖLYESI\n",
      "hi-kod veri bilimi atölyesi\n"
     ]
    }
   ],
   "source": [
    "metin=\"Hi-Kod Veri Bilimi Atölyesi\"\n",
    "kelimeler = metin.split()\n",
    "print(kelimeler)\n",
    "\n",
    "buyuk_harf=metin.upper()\n",
    "print(buyuk_harf)\n",
    "\n",
    "kucuk_harf=metin.lower()\n",
    "print(kucuk_harf)\n"
   ]
  },
  {
   "cell_type": "code",
   "execution_count": 37,
   "metadata": {},
   "outputs": [
    {
     "name": "stdout",
     "output_type": "stream",
     "text": [
      "Çift Sayılar: 02468\n",
      "Tek Sayılar: 13579\n"
     ]
    }
   ],
   "source": [
    "sayi_dizisi= \"0123456789\"\n",
    "\n",
    "cift_sayilar = \"\"\n",
    "tek_sayilar = \"\"\n",
    "\n",
    "for sayi in sayi_dizisi:\n",
    "    if int(sayi) % 2 == 0:\n",
    "        cift_sayilar += sayi\n",
    "    else:\n",
    "        tek_sayilar += sayi\n",
    "\n",
    "print(\"Çift Sayılar:\", cift_sayilar)\n",
    "print(\"Tek Sayılar:\", tek_sayilar)\n"
   ]
  }
 ],
 "metadata": {
  "kernelspec": {
   "display_name": "Python 3",
   "language": "python",
   "name": "python3"
  },
  "language_info": {
   "codemirror_mode": {
    "name": "ipython",
    "version": 3
   },
   "file_extension": ".py",
   "mimetype": "text/x-python",
   "name": "python",
   "nbconvert_exporter": "python",
   "pygments_lexer": "ipython3",
   "version": "3.10.9"
  },
  "orig_nbformat": 4
 },
 "nbformat": 4,
 "nbformat_minor": 2
}
