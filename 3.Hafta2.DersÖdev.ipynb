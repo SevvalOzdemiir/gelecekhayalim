{
 "cells": [
  {
   "cell_type": "code",
   "execution_count": 3,
   "metadata": {},
   "outputs": [
    {
     "name": "stdout",
     "output_type": "stream",
     "text": [
      "Boyut: (5,)\n",
      "Veri Tipi: int64\n",
      "Eleman Sayısı: 1\n",
      "Boyut Sayısı: 5\n"
     ]
    }
   ],
   "source": [
    "import numpy as np\n",
    "\n",
    "a = np.array([1, 2, 3,4,5])\n",
    "print('Boyut:', a.shape)\n",
    "print('Veri Tipi:', a.dtype)\n",
    "print('Eleman Sayısı:', a.ndim)\n",
    "print('Boyut Sayısı:', a.size)"
   ]
  },
  {
   "cell_type": "code",
   "execution_count": 12,
   "metadata": {},
   "outputs": [
    {
     "name": "stdout",
     "output_type": "stream",
     "text": [
      "İki boyutlu arrayin boyutu: 2\n",
      "İki boyutlu arrayin eleman sayısı: 6\n",
      "İki boyutlu arrayin şekli: (2, 3)\n",
      "\n",
      "Üç boyutlu arrayin boyutu: 3\n",
      "Üç boyutlu arrayin eleman sayısı: 12\n",
      "Üç boyutlu arrayin şekli: (2, 2, 3)\n",
      "\n",
      "İki boyutlu arrayin [2,4] elemanı: 6\n",
      "İki boyutlu arrayin ilk satırı: [1 2 3]\n",
      "\n",
      "Üç boyutlu arrayin [1,0,1] elemanı: 8\n",
      "Üç boyutlu arrayin ilk 'katmanı': [[1 2 3]\n",
      " [4 5 6]]\n"
     ]
    }
   ],
   "source": [
    "\n",
    "arr2 = np.array([[1, 2, 3], [4, 5, 6]])\n",
    "print(\"İki boyutlu arrayin boyutu:\", arr2.ndim)\n",
    "print(\"İki boyutlu arrayin eleman sayısı:\", arr2.size)\n",
    "print(\"İki boyutlu arrayin şekli:\", arr2.shape)\n",
    "\n",
    "arr3 = np.array([[[1,2,3], [4,5,6]], [[7,8,9], [10,11,12]]])\n",
    "print(\"\\nÜç boyutlu arrayin boyutu:\", arr3.ndim)\n",
    "print(\"Üç boyutlu arrayin eleman sayısı:\", arr3.size)\n",
    "print(\"Üç boyutlu arrayin şekli:\", arr3.shape)\n",
    "\n",
    "print(\"\\nİki boyutlu arrayin [2,4] elemanı:\", arr2[1, 2])\n",
    "print(\"İki boyutlu arrayin ilk satırı:\", arr2[0, :])\n",
    "\n",
    "\n",
    "print(\"\\nÜç boyutlu arrayin [1,0,1] elemanı:\", arr3[1, 0, 1])\n",
    "print(\"Üç boyutlu arrayin ilk 'katmanı':\", arr3[0, :, :])"
   ]
  },
  {
   "cell_type": "code",
   "execution_count": 13,
   "metadata": {},
   "outputs": [
    {
     "name": "stdout",
     "output_type": "stream",
     "text": [
      "Sıfırlardan oluşan array:\n",
      " [[0 0 0]\n",
      " [0 0 0]]\n",
      "Birlerden oluşan array:\n",
      " [[1 1 1]\n",
      " [1 1 1]]\n",
      "Satır bazında birleştirilmiş array:\n",
      " [[0 0 0]\n",
      " [0 0 0]\n",
      " [1 1 1]\n",
      " [1 1 1]]\n",
      "Sütun bazında birleştirilmiş array:\n",
      " [[0 0 0 1 1 1]\n",
      " [0 0 0 1 1 1]]\n"
     ]
    }
   ],
   "source": [
    "arr0 = np.zeros((2, 3), dtype=int)\n",
    "print(\"Sıfırlardan oluşan array:\\n\", arr0)\n",
    "\n",
    "arr1 = np.ones((2, 3), dtype=int)\n",
    "print(\"Birlerden oluşan array:\\n\", arr1)\n",
    "\n",
    "vstack = np.vstack((arr0, arr1))\n",
    "print(\"Satır bazında birleştirilmiş array:\\n\", vstack)\n",
    "\n",
    "hstack = np.hstack((arr0, arr1))\n",
    "print(\"Sütun bazında birleştirilmiş array:\\n\", hstack)\n"
   ]
  }
 ],
 "metadata": {
  "kernelspec": {
   "display_name": "Python 3",
   "language": "python",
   "name": "python3"
  },
  "language_info": {
   "codemirror_mode": {
    "name": "ipython",
    "version": 3
   },
   "file_extension": ".py",
   "mimetype": "text/x-python",
   "name": "python",
   "nbconvert_exporter": "python",
   "pygments_lexer": "ipython3",
   "version": "3.13.0"
  },
  "orig_nbformat": 4
 },
 "nbformat": 4,
 "nbformat_minor": 2
}
